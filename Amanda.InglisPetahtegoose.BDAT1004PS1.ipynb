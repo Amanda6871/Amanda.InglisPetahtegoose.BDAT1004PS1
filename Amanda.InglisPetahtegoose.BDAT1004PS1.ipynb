{
 "cells": [
  {
   "cell_type": "markdown",
   "id": "2aef8335-f06a-447c-8b05-4417cb4d6827",
   "metadata": {},
   "source": [
    "# Problem Set 1"
   ]
  },
  {
   "cell_type": "markdown",
   "id": "e7a5056d-83f0-4b52-8cde-d56d40beb670",
   "metadata": {},
   "source": [
    "## Question 1"
   ]
  },
  {
   "cell_type": "markdown",
   "id": "a2ab3bb2-7a0b-4871-8591-e5a7d3fe3342",
   "metadata": {},
   "source": [
    "### What data type is each of the following (evaluate where necessary)?"
   ]
  },
  {
   "cell_type": "markdown",
   "id": "90c7734a-8897-42dc-bef2-1524f0ce62c6",
   "metadata": {},
   "source": [
    "|Item           | Data Type            | Returns   |  \n",
    "|:---           | :---                 | :---      |     \n",
    "|5              | Integer Variable     | 5         |    \n",
    "|5.0            | Float Variable       | 5.0       |   \n",
    "|5 > 1          | Boolean Expression   | True      |   \n",
    "|'5'            | String Variable      | 5         |   \n",
    "|5 * 2          | Algebraic Expression | 10        |   \n",
    "|'5' * 2        | String Operation     | 55        |   \n",
    "|'5' + '2'      | String Operation     | 52        |   \n",
    "|5 / 2          | Algebraic Expression | 2.5       |   \n",
    "|5 % 2          | Integer Quotient     | 1         |   \n",
    "|{5, 2, 1}      | Set                  | {1, 2, 5} |   \n",
    "|5 == 3         | Boolean Expression   | False     |   \n",
    "|Pi (the number)|                      |           |   "
   ]
  },
  {
   "cell_type": "markdown",
   "id": "f3172c81-bfd8-4ad0-932c-cdfbbe9f763a",
   "metadata": {},
   "source": [
    "## Question 2"
   ]
  },
  {
   "cell_type": "markdown",
   "id": "f9224318-f71f-46e1-b02b-b0aeec195d45",
   "metadata": {},
   "source": [
    "### Write (and evalute) python expressions that aswer these questions:"
   ]
  },
  {
   "cell_type": "markdown",
   "id": "c69b5644-16c3-4ab4-96c2-0827b07deed8",
   "metadata": {},
   "source": [
    "#### a. How many letters are there in 'Supercalifragilisticexpialidocious'?  "
   ]
  },
  {
   "cell_type": "code",
   "execution_count": 306,
   "id": "2b5c09d2-5d5a-4c43-ac54-a1e2f59ebd78",
   "metadata": {},
   "outputs": [
    {
     "data": {
      "text/plain": [
       "34"
      ]
     },
     "execution_count": 306,
     "metadata": {},
     "output_type": "execute_result"
    }
   ],
   "source": [
    "len('Supercalifragilisticexpialidocious')"
   ]
  },
  {
   "cell_type": "markdown",
   "id": "593967f8-c43a-4b4e-8899-dc06077849b5",
   "metadata": {},
   "source": [
    "#### b. Does 'Supercalifragilisticexpialidocious' contain 'ice' as a substring?"
   ]
  },
  {
   "cell_type": "code",
   "execution_count": 152,
   "id": "270d745e-6715-4a3a-8f4c-f16de2920baf",
   "metadata": {},
   "outputs": [
    {
     "data": {
      "text/plain": [
       "False"
      ]
     },
     "execution_count": 152,
     "metadata": {},
     "output_type": "execute_result"
    }
   ],
   "source": [
    "'inc' in 'Supercalifragilisticexpialidocious'"
   ]
  },
  {
   "cell_type": "markdown",
   "id": "ddbcc5d4-a24e-4248-bf92-0077041006fb",
   "metadata": {},
   "source": [
    "#### c. Which of the following words is the longest: Supercalifragilisticexpialidocious, Honorificabilitudinitatibus, or Bababadalgharaghtakamminarronnkonn?"
   ]
  },
  {
   "cell_type": "code",
   "execution_count": 264,
   "id": "2d0f5d62-7dcd-475e-afcb-457fc1150dde",
   "metadata": {},
   "outputs": [
    {
     "name": "stdout",
     "output_type": "stream",
     "text": [
      "Longest word(s) is(are)  34  characters:  ['Supercalifragilisticexpialidocious', 'Bababadalgharaghtakamminarronnkonn']\n"
     ]
    }
   ],
   "source": [
    "longestWords = []\n",
    "longestWord = 0\n",
    "wordList = {'Supercalifragilisticexpialidocious', 'Honorificabilitudinitatibus', 'Bababadalgharaghtakamminarronnkonn'}\n",
    "for word in wordList:\n",
    "    wordLength = len(word)\n",
    "    if wordLength > longestWord:\n",
    "            longestWord = wordLength\n",
    "for word in wordList:\n",
    "    if len(word) == longestWord:\n",
    "        longestWords.append(word)\n",
    "print('Longest word(s) is(are) ', longestWord, ' characters: ', longestWords)"
   ]
  },
  {
   "cell_type": "markdown",
   "id": "f8d42931-9a2f-4f77-8e7e-cdf17362b045",
   "metadata": {},
   "source": [
    "#### d. Which composer comes first in the dictionary: 'Berlioz', 'Borodin', 'Brian', 'Bartok', 'Bellini', 'Buxtehude', 'Bernstein'. Which one comes last?"
   ]
  },
  {
   "cell_type": "code",
   "execution_count": 298,
   "id": "b71f87f0-95ec-44d0-bfeb-914bd727b9a0",
   "metadata": {},
   "outputs": [
    {
     "name": "stdout",
     "output_type": "stream",
     "text": [
      "Composer Dictionary:  {'Bartok': 1, 'Bernstein': 1, 'Borodin': 1, 'Brian': 1, 'Berlioz': 1, 'Buxtehude': 1, 'Bellini': 1}\n",
      "\n",
      "First in Dictionary:  Bartok\n",
      "\n",
      "Last in Dictionary:  Bellini\n"
     ]
    }
   ],
   "source": [
    "composers = {'Berlioz', 'Borodin', 'Brian', 'Bartok', 'Bellini', 'Buxtehude', 'Bernstein'}\n",
    "dictComposers = dict()\n",
    "for composer in composers:\n",
    "    if composer not in dictComposers:\n",
    "        dictComposers[composer] = 1\n",
    "    else:\n",
    "        dictComposers[composer] = dictComposers + 1\n",
    "\n",
    "first_key = list(dictComposers.keys())[0]\n",
    "last_key = list(dictComposers.keys())[-1]\n",
    "\n",
    "print('Composer Dictionary: ', dictComposers)\n",
    "print()\n",
    "print('First in Dictionary: ', first_key) \n",
    "print()\n",
    "print('Last in Dictionary: ', last_key)"
   ]
  },
  {
   "cell_type": "markdown",
   "id": "ecec571a-4b95-45ce-9c0e-edf7d912c186",
   "metadata": {},
   "source": [
    "## Question 3"
   ]
  },
  {
   "cell_type": "code",
   "execution_count": null,
   "id": "a1130c1e-135e-4cc3-892e-1a03ac809b25",
   "metadata": {},
   "outputs": [],
   "source": [
    "Implement function triangleArea(a,b,c) that takes as input the lengths of the 3\n",
    "sides of a triangle and returns the area of the triangle. By Heron's formula, the area\n",
    "of a triangle with side lengths a, b, and c is square root of s(s - a)(s -b)(s -c), where\n",
    "s = (a +b + c) /2.\n",
    ">>> triangleArea(2,2,2)\n",
    "1.7320508075688772"
   ]
  },
  {
   "cell_type": "code",
   "execution_count": 336,
   "id": "819acdcf-8739-4cbe-82f0-91c3e7f6976d",
   "metadata": {},
   "outputs": [
    {
     "data": {
      "text/plain": [
       "1.7320508075688772"
      ]
     },
     "execution_count": 336,
     "metadata": {},
     "output_type": "execute_result"
    }
   ],
   "source": [
    "import math\n",
    "a = int(2)\n",
    "b = int(2)\n",
    "c = int(2)\n",
    "s = (a+b+c)/2\n",
    "math.sqrt(s*(s-a)*(s-b)*(s-c))"
   ]
  },
  {
   "cell_type": "code",
   "execution_count": 344,
   "id": "b072718d-29f0-471c-a682-91a45927df36",
   "metadata": {},
   "outputs": [
    {
     "ename": "NameError",
     "evalue": "name 'triangleArea' is not defined",
     "output_type": "error",
     "traceback": [
      "\u001b[0;31m---------------------------------------------------------------------------\u001b[0m",
      "\u001b[0;31mNameError\u001b[0m                                 Traceback (most recent call last)",
      "Cell \u001b[0;32mIn[344], line 6\u001b[0m\n\u001b[1;32m      4\u001b[0m b \u001b[38;5;241m=\u001b[39m \u001b[38;5;241m2\u001b[39m\n\u001b[1;32m      5\u001b[0m c \u001b[38;5;241m=\u001b[39m \u001b[38;5;241m2\u001b[39m\n\u001b[0;32m----> 6\u001b[0m \u001b[43mtriangleArea\u001b[49m(a,b,c)\n",
      "\u001b[0;31mNameError\u001b[0m: name 'triangleArea' is not defined"
     ]
    }
   ],
   "source": [
    "import math\n",
    "\n",
    "a = 2\n",
    "b = 2\n",
    "c = 2\n",
    "triangleArea(a,b,c)"
   ]
  },
  {
   "cell_type": "markdown",
   "id": "33d34f97-00f4-4594-8425-13d956f78c22",
   "metadata": {},
   "source": [
    "## Question 4"
   ]
  },
  {
   "cell_type": "markdown",
   "id": "5faa37e9-cba6-4de5-89ae-4139972c9d87",
   "metadata": {},
   "source": [
    "Write a program in python to separate odd and even integers in separate arrays. Go\n",
    "to the editor  \n",
    "Test Data :  \n",
    "Input the number of elements to be stored in the array :5  \n",
    "Input 5 elements in the array :  \n",
    "element - 0 : 25  \n",
    "element - 1 : 47  \n",
    "element - 2 : 42  \n",
    "element - 3 : 56  \n",
    "element - 4 : 32  \n",
    "Expected Output:  \n",
    "The Even elements are:  \n",
    "42 56 32  \n",
    "The Odd elements are :  \n",
    "25 47  "
   ]
  },
  {
   "cell_type": "code",
   "execution_count": null,
   "id": "0fbaa980-d0ff-4bcc-9b26-44e8ffe1374f",
   "metadata": {},
   "outputs": [],
   "source": []
  },
  {
   "cell_type": "markdown",
   "id": "4f340d43-ebdd-4472-9d93-a1fa58039bcb",
   "metadata": {},
   "source": [
    "## Question 5"
   ]
  },
  {
   "cell_type": "markdown",
   "id": "221cae8a-741d-420a-8fe4-9acd77463fff",
   "metadata": {},
   "source": [
    "a. Write a function inside(x,y,x1,y1,x2,y2) that returns True or False depending on whether the point (x,y) lies in the rectangle with lower left corner (x1,y1) and upper right corner (x2,y2)."
   ]
  },
  {
   "cell_type": "raw",
   "id": "8f33857f-8bd0-4f4a-850a-50ffd4f1ee08",
   "metadata": {},
   "source": [
    ">>> inside(1,1,0,0,2,3)\n",
    "True\n",
    ">>> inside(-1,-1,0,0,2,3)\n",
    "False"
   ]
  },
  {
   "cell_type": "markdown",
   "id": "522f66e4-e599-4478-a14b-f0d0f4fd2fe4",
   "metadata": {},
   "source": [
    "b. Use function inside() from part a. to write an expression that tests whether the point (1,1) lies in both of the following rectangles: one with lower left corner (0.3, 0.5) and upper right corner (1.1, 0.7) and the other with lower left corner (0.5, 0.2) and upper right corner (1.1, 2)."
   ]
  },
  {
   "cell_type": "code",
   "execution_count": null,
   "id": "1708242e-5d10-4eac-b8c3-c9dbb18022da",
   "metadata": {},
   "outputs": [],
   "source": []
  },
  {
   "cell_type": "markdown",
   "id": "bd43d66d-d2a6-460c-908f-dc6cce1a4d52",
   "metadata": {},
   "source": [
    "## Question 6"
   ]
  },
  {
   "cell_type": "markdown",
   "id": "b02c061d-2b71-4e15-aa45-ca6fc7595e09",
   "metadata": {},
   "source": [
    "You can turn a word into pig-Latin using the following two rules (simplified):  \n",
    "- If the word starts with a consonant, move that letter to the end and append 'ay'. For example, 'happy' becomes 'appyhay' and 'pencil' becomes 'encilpay'.  \n",
    "- If the word starts with a vowel, simply append 'way' to the end of the word. For example, 'enter' becomes 'enterway' and 'other' becomes 'otherway' . For our purposes, there are 5 vowels: a, e, i, o, u (so we count y as a consonant).  \n",
    "\n",
    "Write a function pig() that takes a word (i.e., a string) as input and returns its pig-Latin form. Your function should still work if the input word contains upper case characters. Your output should always be lower case however."
   ]
  },
  {
   "cell_type": "raw",
   "id": "4b5e637a-6b9a-48b7-b4b2-c5e6c8b2be77",
   "metadata": {},
   "source": [
    ">>> pig('happy')\n",
    "'appyhay'\n",
    ">>> pig('Enter')\n",
    "'enterway'"
   ]
  },
  {
   "cell_type": "code",
   "execution_count": null,
   "id": "3561cf6a-f534-4ae0-9000-7230e46d7874",
   "metadata": {},
   "outputs": [],
   "source": []
  },
  {
   "cell_type": "markdown",
   "id": "bbf3725f-e4e1-4e56-aa0f-16ddbf686d7c",
   "metadata": {},
   "source": [
    "## Question 7"
   ]
  },
  {
   "cell_type": "markdown",
   "id": "996fd0d6-4276-4a76-9a58-1775648a537d",
   "metadata": {},
   "source": [
    "File bloodtype1.txt records blood-types of patients (A, B, AB, O or OO) at a clinic. Write a function bldcount() that reads the file with name name and reports (i.e., prints) how many patients there are in each bloodtype."
   ]
  },
  {
   "cell_type": "raw",
   "id": "c5c6752f-e40c-4a6d-b5d8-d5b7ce580f05",
   "metadata": {},
   "source": [
    ">>> bldcount('bloodtype.txt')\n",
    "There are 10 patients of blood type A.\n",
    "There is one patient of blood type B.\n",
    "There are 10 patients of blood type AB.\n",
    "There are 12 patients of blood type O.\n",
    "There are no patients of blood type OO."
   ]
  },
  {
   "cell_type": "code",
   "execution_count": null,
   "id": "4fb3f9c8-aa6f-4734-baa2-1ba0632dcace",
   "metadata": {},
   "outputs": [],
   "source": []
  },
  {
   "cell_type": "markdown",
   "id": "91c15ff5-404e-4638-8b6c-8b9255ea1db1",
   "metadata": {},
   "source": [
    "## Question 8"
   ]
  },
  {
   "cell_type": "markdown",
   "id": "07a750d6-47fb-4f29-b684-a5c7d66f84b3",
   "metadata": {},
   "source": [
    "Write a function curconv() that takes as input:  \n",
    "\n",
    "1. a currency represented using a string (e.g., 'JPY' for the Japanese Yen or 'EUR' for the Euro)  \n",
    "2. an amount  \n",
    "\n",
    "and then concerts and returns the amount in US dollars."
   ]
  },
  {
   "cell_type": "raw",
   "id": "4ecade5b-b753-4f87-9d70-e89bcbfe5d19",
   "metadata": {},
   "source": [
    ">>> curconv('EUR', 100)\n",
    "122.96544\n",
    ">>> curconv('JPY', 100)\n",
    "1.241401"
   ]
  },
  {
   "cell_type": "markdown",
   "id": "d3d59152-05a8-4614-9070-141257f6a007",
   "metadata": {},
   "source": [
    "The currency rates you will need are stored in file currencies.txt:  \n",
    "  \n",
    "AUD 1.0345157 Australian Dollar  \n",
    "CHF 1.0237414 Swiss Franc  \n",
    "CNY 0.1550176 Chinese Yuan  \n",
    "DKK 0.1651442 Danish Krone  \n",
    "EUR 1.2296544 Euro  \n",
    "GBP 1.5550989 British Pound  \n",
    "HKD 0.1270207 Hong Kong Dollar  \n",
    "INR 0.0177643 Indian Rupee  \n",
    "JPY 0.01241401 Japanese Yen  \n",
    "MXN 0.0751848 Mexican Peso  \n",
    "MYR 0.3145411 Malaysian Ringgit  \n",
    "NOK 0.1677063 Norwegian Krone  \n",
    "NZD 0.8003591 New Zealand Dollar  \n",
    "PHP 0.0233234 Philippine Peso  \n",
    "SEK 0.148269 Swedish Krona  \n",
    "SGD 0.788871 Singapore Dollar  \n",
    "THB 0.0313789 Thai Baht  "
   ]
  },
  {
   "cell_type": "code",
   "execution_count": null,
   "id": "324f3ff6-5d52-4d96-99e6-935fda731abf",
   "metadata": {},
   "outputs": [],
   "source": []
  },
  {
   "cell_type": "markdown",
   "id": "7ba8d3ef-7c4f-4831-b601-da13eff21035",
   "metadata": {},
   "source": [
    "## Question 9"
   ]
  },
  {
   "cell_type": "markdown",
   "id": "af849898-0f26-4ccf-bb8b-7eed2c26bfe6",
   "metadata": {},
   "source": [
    "Each of the following will cause an exception (an error). Identify what type of exception each will cause.  \n",
    "\n",
    "Trying to add incompatible variables, as in\n",
    "adding 6 + ‘a’  \n",
    "Referring to the 12\n",
    "th item of a list that has only 10\n",
    "items  \n",
    "Using a value that is out of range for a functi\n",
    "on’s\n",
    "input, such as calling math.sqrt( 1.0)  \n",
    "Using an undeclared variable, such as\n",
    "p rint(x)\n",
    "when x has not been defined  \n",
    "Trying to open a file that does not exist, such as\n",
    "mistyping the file name or looking in the wrong\n",
    "directory.  "
   ]
  },
  {
   "cell_type": "code",
   "execution_count": null,
   "id": "10fce549-2a6c-4cdf-9b7c-57446b0f0777",
   "metadata": {},
   "outputs": [],
   "source": []
  },
  {
   "cell_type": "markdown",
   "id": "ba3f3e6e-49e0-4d8a-8965-5f0dbea1869b",
   "metadata": {},
   "source": [
    "## Question 10"
   ]
  },
  {
   "cell_type": "markdown",
   "id": "e9e2b214-d0ef-4413-b17d-7474f4d9c90b",
   "metadata": {},
   "source": [
    "Encryption is the process of hiding the meaning of a text by substituting letters in the message with other letters, according to some system. If the process is successful, no one but the intended recipient can understand the encrypted message. Cryptanalysis refers to attempts to undo the encryption, even if some details of the encryption are unknown (for example, if an encrypted message has been intercepted). The first step of cryptanalysis is often to build up a table of letter frequencies in the encrypted text. Assume that the string letters is already defined as 'abcdefghijklmnopqrstuvwxyz'. Write a function called frequencies() that takes a string as its only parameter, and returns a list of integers, showing the number of times each character appears in the text. Your function may ignore any characters that are not in letters."
   ]
  },
  {
   "cell_type": "raw",
   "id": "ddbe1407-488a-4b32-9626-269bdea98eb5",
   "metadata": {},
   "source": [
    ">>> frequencies('The quick red fox got bored and went home.')\n",
    "[1, 1, 1, 3, 5, 1, 1, 2, 1, 0, 1, 0, 1, 2, 4, 0, 1, 2, 0, 2, 1, 0, 1, 1, 0, 0]\n",
    ">>> frequencies('apple')"
   ]
  },
  {
   "cell_type": "code",
   "execution_count": null,
   "id": "e12094ba-c99e-4717-aecd-53facd55ef2e",
   "metadata": {},
   "outputs": [],
   "source": []
  },
  {
   "cell_type": "code",
   "execution_count": null,
   "id": "3ede391d-7cb6-4162-ac26-4ebf39aa3ecf",
   "metadata": {},
   "outputs": [],
   "source": []
  }
 ],
 "metadata": {
  "kernelspec": {
   "display_name": "anaconda-2024.02-py310",
   "language": "python",
   "name": "conda-env-anaconda-2024.02-py310-py"
  },
  "language_info": {
   "codemirror_mode": {
    "name": "ipython",
    "version": 3
   },
   "file_extension": ".py",
   "mimetype": "text/x-python",
   "name": "python",
   "nbconvert_exporter": "python",
   "pygments_lexer": "ipython3",
   "version": "3.10.14"
  }
 },
 "nbformat": 4,
 "nbformat_minor": 5
}
