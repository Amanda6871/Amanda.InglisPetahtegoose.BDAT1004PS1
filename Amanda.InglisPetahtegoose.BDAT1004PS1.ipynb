{
 "cells": [
  {
   "cell_type": "markdown",
   "id": "2aef8335-f06a-447c-8b05-4417cb4d6827",
   "metadata": {},
   "source": [
    "# Problem Set 1"
   ]
  },
  {
   "cell_type": "markdown",
   "id": "e7a5056d-83f0-4b52-8cde-d56d40beb670",
   "metadata": {},
   "source": [
    "## Question 1"
   ]
  },
  {
   "cell_type": "markdown",
   "id": "a2ab3bb2-7a0b-4871-8591-e5a7d3fe3342",
   "metadata": {},
   "source": [
    "### What data type is each of the following (evaluate where necessary)?"
   ]
  },
  {
   "cell_type": "markdown",
   "id": "304c2a54-d058-494f-a37b-c5aa78eb4d78",
   "metadata": {},
   "source": [
    "|Item           | Data Type                 | Returns           |  \n",
    "|:---           | :---                      | :---              |  \n",
    "|5              | Integer Variable          | 5                 |  \n",
    "|5.0            | Float Variable            | 5.0               |  \n",
    "|5 > 1          | Boolean Expression        | True              |  \n",
    "|'5'            | String Variable           | 5                 |  \n",
    "|5 * 2          | Algebraic Expression      | 10                |  \n",
    "|'5' * 2        | String Operation          | 55                |  \n",
    "|'5' + '2'      | String Operation          | 52                |  \n",
    "|5 / 2          | Algebraic Expression      | 2.5               |  \n",
    "|5 % 2          | Integer Quotient          | 1                 |  \n",
    "|{5, 2, 1}      | Set                       | {1, 2, 5}         |  \n",
    "|5 == 3         | Boolean Expression        | False             |  \n",
    "|Pi (the number)| Variable from Math Module | 3.141592653589793 |  "
   ]
  },
  {
   "cell_type": "markdown",
   "id": "f3172c81-bfd8-4ad0-932c-cdfbbe9f763a",
   "metadata": {},
   "source": [
    "## Question 2"
   ]
  },
  {
   "cell_type": "markdown",
   "id": "f9224318-f71f-46e1-b02b-b0aeec195d45",
   "metadata": {},
   "source": [
    "### Write (and evalute) python expressions that aswer these questions:"
   ]
  },
  {
   "cell_type": "markdown",
   "id": "c69b5644-16c3-4ab4-96c2-0827b07deed8",
   "metadata": {},
   "source": [
    "#### a. How many letters are there in 'Supercalifragilisticexpialidocious'?  "
   ]
  },
  {
   "cell_type": "code",
   "execution_count": 3,
   "id": "2b5c09d2-5d5a-4c43-ac54-a1e2f59ebd78",
   "metadata": {},
   "outputs": [
    {
     "data": {
      "text/plain": [
       "34"
      ]
     },
     "execution_count": 3,
     "metadata": {},
     "output_type": "execute_result"
    }
   ],
   "source": [
    "len('Supercalifragilisticexpialidocious')"
   ]
  },
  {
   "cell_type": "markdown",
   "id": "593967f8-c43a-4b4e-8899-dc06077849b5",
   "metadata": {},
   "source": [
    "#### b. Does 'Supercalifragilisticexpialidocious' contain 'ice' as a substring?"
   ]
  },
  {
   "cell_type": "code",
   "execution_count": 4,
   "id": "270d745e-6715-4a3a-8f4c-f16de2920baf",
   "metadata": {},
   "outputs": [
    {
     "data": {
      "text/plain": [
       "False"
      ]
     },
     "execution_count": 4,
     "metadata": {},
     "output_type": "execute_result"
    }
   ],
   "source": [
    "'inc' in 'Supercalifragilisticexpialidocious'"
   ]
  },
  {
   "cell_type": "markdown",
   "id": "ddbcc5d4-a24e-4248-bf92-0077041006fb",
   "metadata": {},
   "source": [
    "#### c. Which of the following words is the longest: Supercalifragilisticexpialidocious, Honorificabilitudinitatibus, or Bababadalgharaghtakamminarronnkonn?"
   ]
  },
  {
   "cell_type": "code",
   "execution_count": 338,
   "id": "2d0f5d62-7dcd-475e-afcb-457fc1150dde",
   "metadata": {},
   "outputs": [
    {
     "name": "stdout",
     "output_type": "stream",
     "text": [
      "Longest word(s) is(are)  34  characters:  ['Supercalifragilisticexpialidocious', 'Bababadalgharaghtakamminarronnkonn']\n"
     ]
    }
   ],
   "source": [
    "longestWords = []  # initiates list for longest words\n",
    "longestWord = 0  # initiates variable for length of longest word\n",
    "wordList = {'Supercalifragilisticexpialidocious', 'Honorificabilitudinitatibus', 'Bababadalgharaghtakamminarronnkonn'}\n",
    "for word in wordList:  # for each word in the wordList (loops through each word)\n",
    "    wordLength = len(word)  # counts the number of characters in the selected word\n",
    "    if wordLength > longestWord:  # if the selected word for that loop iteration is greater than the longest word so far\n",
    "            longestWord = wordLength  # update the longest word to current word length\n",
    "for word in wordList:  # for each word in the wordList\n",
    "    if len(word) == longestWord:  # if the length of the word matches the length of the longest word\n",
    "        longestWords.append(word)  # append the word to the longestWord list\n",
    "print('Longest word(s) is(are) ', longestWord, ' characters: ', longestWords)  # print the list of longest words"
   ]
  },
  {
   "cell_type": "markdown",
   "id": "4c07dfc1-5074-4099-8b5d-a6d2228e9ac6",
   "metadata": {},
   "source": [
    "#### d. Which composer comes first in the dictionary: 'Berlioz', 'Borodin', 'Brian', 'Bartok', 'Bellini', 'Buxtehude', 'Bernstein'. Which one comes last?"
   ]
  },
  {
   "cell_type": "code",
   "execution_count": 339,
   "id": "fac8c28d",
   "metadata": {},
   "outputs": [
    {
     "name": "stdout",
     "output_type": "stream",
     "text": [
      "Sorted List of Composers:  ['Bartok', 'Bellini', 'Berlioz', 'Bernstein', 'Borodin', 'Brian', 'Buxtehude']\n",
      "\n",
      "First in Alphabetical Order:  Bartok\n",
      "\n",
      "Last in Asphabetical Order:  Buxtehude\n"
     ]
    }
   ],
   "source": [
    "composers = ['Berlioz', 'Borodin', 'Brian', 'Bartok', 'Bellini', 'Buxtehude', 'Bernstein']  # a list of the composers from the question\n",
    "composers.sort()  # sort is the method in Lists that sorts the list by alphabetical order\n",
    "print('Sorted List of Composers: ', composers)  # prints sorted list of composers\n",
    "print()\n",
    "print('First in Alphabetical Order: ', composers[0]) # prints the first composer's name\n",
    "print()\n",
    "print('Last in Asphabetical Order: ', composers[-1])  # prints the last composer's name\n"
   ]
  },
  {
   "cell_type": "markdown",
   "id": "ecec571a-4b95-45ce-9c0e-edf7d912c186",
   "metadata": {},
   "source": [
    "## Question 3"
   ]
  },
  {
   "cell_type": "markdown",
   "id": "78091ede-21c6-4062-99f3-bbd0576717c3",
   "metadata": {},
   "source": [
    "#### Implement function triangleArea(a,b,c) that takes as input the lengths of the 3 sides of a triangle and returns the area of the triangle. By Heron's formula, the area of a triangle with side lengths a, b, and c is square root of s(s - a)(s -b)(s -c), where s = (a +b + c) /2.\n",
    "> triangleArea(2,2,2)  \n",
    "1.7320508075688772"
   ]
  },
  {
   "cell_type": "code",
   "execution_count": 341,
   "id": "712117c0",
   "metadata": {},
   "outputs": [
    {
     "data": {
      "text/plain": [
       "1.7320508075688772"
      ]
     },
     "execution_count": 341,
     "metadata": {},
     "output_type": "execute_result"
    }
   ],
   "source": [
    "import math  # imports math module so sqrt can be called later\n",
    "\n",
    "def triangleArea(a=2, b=2, c=2):  # defines the function triangleArea that will use inputs a, b, c\n",
    "    s = (a+b+c)/2  # performs math steps as described and saves the result in variable s\n",
    "    area = math.sqrt(s*(s-a)*(s-b)*(s-c))  # performs the math steps described, then takes the square root of the result\n",
    "    return (area)\n",
    "\n",
    "triangleArea()\n"
   ]
  },
  {
   "cell_type": "markdown",
   "id": "33d34f97-00f4-4594-8425-13d956f78c22",
   "metadata": {},
   "source": [
    "## Question 4"
   ]
  },
  {
   "cell_type": "markdown",
   "id": "c25aa35a-460f-4dcb-a562-bf46dac236a6",
   "metadata": {},
   "source": [
    "#### Write a program in python to separate odd and even integers in separate arrays. Go to the editor  \n",
    "> Test Data :  \n",
    "Input the number of elements to be stored in the array :5  \n",
    "Input 5 elements in the array :  \n",
    "element - 0 : 25  \n",
    "element - 1 : 47  \n",
    "element - 2 : 42  \n",
    "element - 3 : 56  \n",
    "element - 4 : 32  \n",
    "Expected Output:  \n",
    "The Even elements are:  \n",
    "42 56 32  \n",
    "The Odd elements are :  \n",
    "25 47  "
   ]
  },
  {
   "cell_type": "code",
   "execution_count": 342,
   "id": "0fbaa980-d0ff-4bcc-9b26-44e8ffe1374f",
   "metadata": {},
   "outputs": [
    {
     "name": "stdout",
     "output_type": "stream",
     "text": [
      "The Even elements are:\n",
      "42 56 32\n",
      "The Odd elements are:\n",
      "25 47\n"
     ]
    }
   ],
   "source": [
    "import array as arr  # imports the array module\n",
    "oddNos = []  # initializes a string to store odd numbers\n",
    "evenNos = []  # initializes a string to store even numbers\n",
    "noArray = arr.array('i',[25, 47,42, 56, 32])  # creates an array from the list of numbers\n",
    "for n in noArray:  # for each number in the array\n",
    "    if n % 2 == 0:  # checks if the remainter is equal to 0\n",
    "        evenNos.append(str(n))  # if remainder is equal to zero, converts integer to string and appends number to evenNos string\n",
    "        pass  # go back to the start of the loop\n",
    "    else:\n",
    "        oddNos.append(str(n))  # if remainder is not equal to zero, converts integer to string and appends value to oddNos string\n",
    "\n",
    "delimiter = ' '  # defines variable delimiter as a space\n",
    "print('The Even elements are:')  \n",
    "print(delimiter.join(evenNos))  # joins each number with a space\n",
    "print('The Odd elements are:')  \n",
    "print(delimiter.join(oddNos))  # joins each number with a space"
   ]
  },
  {
   "cell_type": "markdown",
   "id": "4f340d43-ebdd-4472-9d93-a1fa58039bcb",
   "metadata": {},
   "source": [
    "## Question 5"
   ]
  },
  {
   "cell_type": "markdown",
   "id": "9af3c8ea-92c3-4557-ab09-05e51895d4ef",
   "metadata": {},
   "source": [
    "#### a. Write a function inside(x,y,x1,y1,x2,y2) that returns True or False depending on whether the point (x,y) lies in the rectangle with lower left corner (x1,y1) and upper right corner (x2,y2)."
   ]
  },
  {
   "cell_type": "raw",
   "id": "84f55504-7897-4658-95cf-5938e20eef47",
   "metadata": {},
   "source": [
    ">>> inside(1,1,0,0,2,3)\n",
    "True\n",
    ">>> inside(-1,-1,0,0,2,3)\n",
    "False"
   ]
  },
  {
   "cell_type": "markdown",
   "id": "a081f8f6",
   "metadata": {},
   "source": [
    "##### Though process:"
   ]
  },
  {
   "cell_type": "markdown",
   "id": "c6ffc4c6",
   "metadata": {
    "vscode": {
     "languageId": "raw"
    }
   },
   "source": [
    "![alt text](q5_AreaLogic_screenshot.png)"
   ]
  },
  {
   "cell_type": "code",
   "execution_count": 343,
   "id": "461f8d88",
   "metadata": {},
   "outputs": [
    {
     "data": {
      "text/plain": [
       "True"
      ]
     },
     "execution_count": 343,
     "metadata": {},
     "output_type": "execute_result"
    }
   ],
   "source": [
    "def inside(x=1, y=1, x1=0, y1=0, x2=2, y2=3):\n",
    "    if x >= x1 and x <= x2 and y >= y1 and y <= y2:  # checks if the value of x and y fall between the limits\n",
    "        return True\n",
    "        # print('True')  # prints True if x and y fall within the limits\n",
    "    return False\n",
    "    # print('False')  # prints False if x and y do not fall within the limits\n",
    "\n",
    "inside()"
   ]
  },
  {
   "cell_type": "code",
   "execution_count": 344,
   "id": "ac67bf25-d796-4355-9665-058db160e955",
   "metadata": {},
   "outputs": [
    {
     "data": {
      "text/plain": [
       "False"
      ]
     },
     "execution_count": 344,
     "metadata": {},
     "output_type": "execute_result"
    }
   ],
   "source": [
    "def inside(x=-1, y=-1, x1=0, y1=0, x2=2, y2=3):\n",
    "    if x >= x1 and x <= x2 and y >= y1 and y <= y2:  # checks if the value of x and y fall between the limits\n",
    "        return True\n",
    "        # print('True')  # prints True if x and y fall within the limits\n",
    "    return False\n",
    "    # print('False')  # prints False if x and y do not fall within the limits\n",
    "\n",
    "inside()"
   ]
  },
  {
   "cell_type": "markdown",
   "id": "f7b45b59-8dac-42ef-8a15-67d1d7a6aad4",
   "metadata": {},
   "source": [
    "#### b. Use function inside() from part a. to write an expression that tests whether the point (1,1) lies in both of the following rectangles: one with lower left corner (0.3, 0.5) and upper right corner (1.1, 0.7) and the other with lower left corner (0.5, 0.2) and upper right corner (1.1, 2)."
   ]
  },
  {
   "cell_type": "code",
   "execution_count": 345,
   "id": "46a320d3",
   "metadata": {},
   "outputs": [
    {
     "data": {
      "text/plain": [
       "False"
      ]
     },
     "execution_count": 345,
     "metadata": {},
     "output_type": "execute_result"
    }
   ],
   "source": [
    "def inside(x=1, y=1, x1=0.3, y1=0.5, x2=1.1, y2=0.7):\n",
    "    if x >= x1 and x <= x2 and y >= y1 and y <= y2:  # checks if the value of x and y fall between the limits\n",
    "        return True\n",
    "        # print('True')  # prints True if x and y fall within the limits\n",
    "    return False\n",
    "    # print('False')  # prints False if x and y do not fall within the limits\n",
    "\n",
    "inside()"
   ]
  },
  {
   "cell_type": "code",
   "execution_count": 346,
   "id": "49dac289",
   "metadata": {},
   "outputs": [
    {
     "data": {
      "text/plain": [
       "True"
      ]
     },
     "execution_count": 346,
     "metadata": {},
     "output_type": "execute_result"
    }
   ],
   "source": [
    "def inside(x=1, y=1, x1=0.5, y1=0.2, x2=1.1, y2=2):\n",
    "    if x >= x1 and x <= x2 and y >= y1 and y <= y2:  # checks if the value of x and y fall between the limits\n",
    "        return True\n",
    "        # print('True')  # prints True if x and y fall within the limits\n",
    "    return False\n",
    "    # print('False')  # prints False if x and y do not fall within the limits\n",
    "\n",
    "inside()"
   ]
  },
  {
   "cell_type": "markdown",
   "id": "bd43d66d-d2a6-460c-908f-dc6cce1a4d52",
   "metadata": {},
   "source": [
    "## Question 6"
   ]
  },
  {
   "cell_type": "markdown",
   "id": "b5c6d93b-dd8d-4418-8b00-535d3c7be61e",
   "metadata": {},
   "source": [
    "You can turn a word into pig-Latin using the following two rules (simplified):  \n",
    "- If the word starts with a consonant, move that letter to the end and append 'ay'. For example, 'happy' becomes 'appyhay' and 'pencil' becomes 'encilpay'.  \n",
    "- If the word starts with a vowel, simply append 'way' to the end of the word. For example, 'enter' becomes 'enterway' and 'other' becomes 'otherway' . For our purposes, there are 5 vowels: a, e, i, o, u (so we count y as a consonant).  \n",
    "\n",
    "#### Write a function pig() that takes a word (i.e., a string) as input and returns its pig-Latin form. Your function should still work if the input word contains upper case characters. Your output should always be lower case however."
   ]
  },
  {
   "cell_type": "raw",
   "id": "4b5e637a-6b9a-48b7-b4b2-c5e6c8b2be77",
   "metadata": {},
   "source": [
    ">>> pig('happy')\n",
    "'appyhay'\n",
    ">>> pig('Enter')\n",
    "'enterway'"
   ]
  },
  {
   "cell_type": "code",
   "execution_count": 347,
   "id": "c2df7986",
   "metadata": {},
   "outputs": [
    {
     "name": "stdout",
     "output_type": "stream",
     "text": [
      "appyhay\n"
     ]
    }
   ],
   "source": [
    "def pig(engWord='happy'):  # initializes function and sets input to 'happy'\n",
    "    engWord = engWord.lower()  # changes string to lower case\n",
    "    if engWord[0] in 'aeiou':  # checks if the first letter of the word is in string 'aeiou'\n",
    "        print(engWord + 'way')  # if first letter is in the string print\n",
    "    else:\n",
    "        print(engWord[1:] + engWord[0] + 'ay')  # if first letter is not in string print\n",
    "\n",
    "pig()"
   ]
  },
  {
   "cell_type": "code",
   "execution_count": 348,
   "id": "063bdafe",
   "metadata": {},
   "outputs": [
    {
     "name": "stdout",
     "output_type": "stream",
     "text": [
      "enterway\n"
     ]
    }
   ],
   "source": [
    "def pig(engWord='Enter'):  # initializes function and sets input to 'Enter'\n",
    "    engWord = engWord.lower()  # changes string to lower case\n",
    "    if engWord[0] in 'aeiou':  # checks if the first letter of the word is in string 'aeiou'\n",
    "        print(engWord + 'way')  # if first letter is in the string print\n",
    "    else:\n",
    "        print(engWord[1:] + engWord[0] + 'ay')  # if first letter is not in string print\n",
    "\n",
    "pig()"
   ]
  },
  {
   "cell_type": "markdown",
   "id": "bbf3725f-e4e1-4e56-aa0f-16ddbf686d7c",
   "metadata": {},
   "source": [
    "## Question 7"
   ]
  },
  {
   "cell_type": "markdown",
   "id": "8879454c-5095-4763-a918-be419de338c7",
   "metadata": {},
   "source": [
    "File bloodtype1.txt records blood-types of patients (A, B, AB, O or OO) at a clinic. \n",
    "#### Write a function bldcount() that reads the file with name name and reports (i.e., prints) how many patients there are in each bloodtype."
   ]
  },
  {
   "cell_type": "raw",
   "id": "c5c6752f-e40c-4a6d-b5d8-d5b7ce580f05",
   "metadata": {},
   "source": [
    ">>> bldcount('bloodtype.txt')\n",
    "There are 10 patients of blood type A.\n",
    "There is one patient of blood type B.\n",
    "There are 10 patients of blood type AB.\n",
    "There are 12 patients of blood type O.\n",
    "There are no patients of blood type OO."
   ]
  },
  {
   "cell_type": "code",
   "execution_count": 350,
   "id": "4e899ab6",
   "metadata": {},
   "outputs": [
    {
     "name": "stdout",
     "output_type": "stream",
     "text": [
      "AB AB B O A A AB O AB A O O A A A O O O AB O A A A A A AB AB A AB O AB O A O O O AB O AB AB AB A A O \n",
      "\n",
      "{'AB': 13, 'B': 1, 'O': 15, 'A': 15}\n",
      "\n",
      "There are 15 patients of blood type A.\n",
      "There is one patients of blood type B.\n",
      "There are 13 patients of blood type AB.\n",
      "There are 15 patients of blood type O.\n",
      "There are no patients of blood type OO.\n"
     ]
    }
   ],
   "source": [
    "def bldcount():\n",
    "    fname = open('bloodtype1.txt', 'r') # opens file in read mode\n",
    "    content = fname.read()  # reads the file into a string\n",
    "    print(content)  # this doesn't match the example in Assignment. I counted them manually.\n",
    "    fname.close()  # closes the file\n",
    "\n",
    "    typeList = ['A', 'B', 'AB', 'O', 'OO']  # a reference list of possible blood types to compare to\n",
    "\n",
    "    d = dict()  # creates a dictionary called 'd'\n",
    "    wordList = content.split()  # splits string into list of words\n",
    "    for word in wordList:  # loops through words in the string\n",
    "        if word not in d:  # if word is NOT already in the dictionary\n",
    "            d[word] = 1  # adds word to dictionary and counts occurrance as 1\n",
    "        else:  # if word is already in dictionary\n",
    "            d[word] = d[word] + 1  # incriments count by 1 for existing item\n",
    "    \n",
    "    print(d)  # prints the entire dictionary\n",
    "    print()  \n",
    "\n",
    "    for item in typeList:  # loops through items in the list of blood types\n",
    "        if item in d:  # checks if the current item in the blood type list matches any keys in the dictionary\n",
    "            for word in d:  # loops through the keys in the dictionary\n",
    "                if item == word and d[word] == 1:  # checks if the item in the blood type list matches the key in the dictionary AND checks if the value in the dictionary equals 1\n",
    "                    print('There is one patients of blood type', word + '.')  # This print statement only exists so 1 prints as the word one, rather than the integer. Item allows for blood type to change with each iteration.\n",
    "                if item == word and d[word] != 1:  # checks if the item in the blood type list matches the key in the dictionary AND checks if the value in the dictionary DOES NOT equal 1\n",
    "                    print('There are', d[word], 'patients of blood type', word + '.')  # This print statement prints for all other circumstances except when the blood type is not found in the dictionary\n",
    "        \n",
    "        else:\n",
    "            print('There are no patients of blood type', item + '.')  # This print statement only exicutes if the blood type is not found in the dictionary.\n",
    "\n",
    "bldcount()\n",
    "\n"
   ]
  },
  {
   "cell_type": "markdown",
   "id": "91c15ff5-404e-4638-8b6c-8b9255ea1db1",
   "metadata": {},
   "source": [
    "## Question 8"
   ]
  },
  {
   "cell_type": "markdown",
   "id": "1ab904de-fc30-4635-a10d-0f026ef527be",
   "metadata": {},
   "source": [
    "#### Write a function curconv() that takes as input:  \n",
    "\n",
    "> 1. a currency represented using a string (e.g., 'JPY' for the Japanese Yen or 'EUR' for the Euro)  \n",
    "> 2. an amount  \n",
    "\n",
    "#### and then concerts and returns the amount in US dollars using information contained in file currency.txt."
   ]
  },
  {
   "cell_type": "raw",
   "id": "4ecade5b-b753-4f87-9d70-e89bcbfe5d19",
   "metadata": {},
   "source": [
    ">>> curconv('EUR', 100)\n",
    "122.96544\n",
    ">>> curconv('JPY', 100)\n",
    "1.241401"
   ]
  },
  {
   "cell_type": "code",
   "execution_count": 351,
   "id": "324f3ff6-5d52-4d96-99e6-935fda731abf",
   "metadata": {},
   "outputs": [
    {
     "name": "stdout",
     "output_type": "stream",
     "text": [
      "100 EUR converts to 122.96544 USD\n"
     ]
    }
   ],
   "source": [
    "# program converts user input and returns the amount in US dollars\n",
    "\n",
    "def curconv():\n",
    "    currCode = input('Enter currency 3 letter code: ')  # prompts the user to input the currency code of the currency being converted\n",
    "    currAmt = float(input('Enter currency amount to convert: '))  # prompts the user to input the value to be converted\n",
    "\n",
    "    # these steps just make user input consistent to prevent run errors\n",
    "    currCode = currCode.upper()  # converts the code to upper case to match the code in the text file currencies.txt\n",
    "    currAmt = round(currAmt)  # rounds the value entered to the nearest whole number\n",
    "\n",
    "    currencyRates = open('currencies.txt', 'r') # opens file in read mode\n",
    "\n",
    "    for line in currencyRates:  # reads each line in file\n",
    "        if line.startswith(currCode):  # looks for line starting with currency code\n",
    "            t = line.split()  # splits the string into words\n",
    "            t = float(t[1])  # converts conversion rate into a float (decimal value)\n",
    "            dollarsUSD = t*float(currAmt)  # multiplies the value entered by user by the conversion rate for that currency\n",
    "            print(currAmt, currCode, 'converts to', dollarsUSD, 'USD')  # prints the converted value in US Dollars\n",
    "\n",
    "curconv()"
   ]
  },
  {
   "cell_type": "code",
   "execution_count": 352,
   "id": "79deb814",
   "metadata": {},
   "outputs": [
    {
     "name": "stdout",
     "output_type": "stream",
     "text": [
      "100 JPY converts to 1.241401 USD\n"
     ]
    }
   ],
   "source": [
    "# program converts user input and returns the amount in US dollars\n",
    "\n",
    "def curconv():\n",
    "    currCode = input('Enter currency 3 letter code: ')  # prompts the user to input the currency code of the currency being converted\n",
    "    currAmt = float(input('Enter currency amount to convert: '))  # prompts the user to input the value to be converted\n",
    "\n",
    "    # these steps just make user input consistent to prevent run errors\n",
    "    currCode = currCode.upper()  # converts the code to upper case to match the code in the text file currencies.txt\n",
    "    currAmt = round(currAmt)  # rounds the value entered to the nearest whole number\n",
    "\n",
    "    currencyRates = open('currencies.txt', 'r') # opens file in read mode\n",
    "\n",
    "    for line in currencyRates:  # reads each line in file\n",
    "        if line.startswith(currCode):  # looks for line starting with currency code\n",
    "            t = line.split()  # splits the string into words\n",
    "            t = float(t[1])  # converts conversion rate into a float (decimal value)\n",
    "            dollarsUSD = t*float(currAmt)  # multiplies the value entered by user by the conversion rate for that currency\n",
    "            print(currAmt, currCode, 'converts to', dollarsUSD, 'USD')  # prints the converted value in US Dollars\n",
    "\n",
    "curconv()"
   ]
  },
  {
   "cell_type": "markdown",
   "id": "7ba8d3ef-7c4f-4831-b601-da13eff21035",
   "metadata": {},
   "source": [
    "## Question 9"
   ]
  },
  {
   "cell_type": "markdown",
   "id": "882285af-dc51-4699-ac69-9d2917c12e33",
   "metadata": {},
   "source": [
    "#### Each of the following will cause an exception (an error). Identify what type of exception each will cause.  "
   ]
  },
  {
   "cell_type": "markdown",
   "id": "cb5def3f-2d10-4797-ab67-d73b7a3d803a",
   "metadata": {},
   "source": [
    "##### Cause: Trying to add incompatible variables, as in adding 6 + ‘a’"
   ]
  },
  {
   "cell_type": "markdown",
   "id": "079502be-7dc8-4394-871f-59f821622c5f",
   "metadata": {},
   "source": [
    "##### Result: TypeError"
   ]
  },
  {
   "cell_type": "code",
   "execution_count": 3,
   "id": "051aef15-959c-4284-badd-23646829ab75",
   "metadata": {},
   "outputs": [
    {
     "ename": "TypeError",
     "evalue": "unsupported operand type(s) for +: 'int' and 'str'",
     "output_type": "error",
     "traceback": [
      "\u001b[1;31m---------------------------------------------------------------------------\u001b[0m",
      "\u001b[1;31mTypeError\u001b[0m                                 Traceback (most recent call last)",
      "Cell \u001b[1;32mIn[3], line 1\u001b[0m\n\u001b[1;32m----> 1\u001b[0m \u001b[38;5;241;43m6\u001b[39;49m\u001b[43m \u001b[49m\u001b[38;5;241;43m+\u001b[39;49m\u001b[43m \u001b[49m\u001b[38;5;124;43m'\u001b[39;49m\u001b[38;5;124;43ma\u001b[39;49m\u001b[38;5;124;43m'\u001b[39;49m\n",
      "\u001b[1;31mTypeError\u001b[0m: unsupported operand type(s) for +: 'int' and 'str'"
     ]
    }
   ],
   "source": [
    "6 + 'a'"
   ]
  },
  {
   "cell_type": "markdown",
   "id": "e7e142ec-adf5-41e7-ba4b-02bb0371501c",
   "metadata": {},
   "source": [
    "##### Cause: Referring to the 12 th item of a list that has only 10 items"
   ]
  },
  {
   "cell_type": "markdown",
   "id": "7a847f9a-b41d-40e2-88cb-0b468a45fc12",
   "metadata": {},
   "source": [
    "##### Result: IndexError"
   ]
  },
  {
   "cell_type": "code",
   "execution_count": 163,
   "id": "17e29b20-8437-40e6-9d17-0e7d11c406fa",
   "metadata": {},
   "outputs": [
    {
     "ename": "IndexError",
     "evalue": "list index out of range",
     "output_type": "error",
     "traceback": [
      "\u001b[1;31m---------------------------------------------------------------------------\u001b[0m",
      "\u001b[1;31mIndexError\u001b[0m                                Traceback (most recent call last)",
      "Cell \u001b[1;32mIn[163], line 2\u001b[0m\n\u001b[0;32m      1\u001b[0m itemList \u001b[38;5;241m=\u001b[39m [\u001b[38;5;241m1\u001b[39m, \u001b[38;5;241m2\u001b[39m, \u001b[38;5;241m3\u001b[39m, \u001b[38;5;241m4\u001b[39m, \u001b[38;5;241m5\u001b[39m, \u001b[38;5;241m6\u001b[39m, \u001b[38;5;241m7\u001b[39m, \u001b[38;5;241m8\u001b[39m, \u001b[38;5;241m9\u001b[39m, \u001b[38;5;241m10\u001b[39m]\n\u001b[1;32m----> 2\u001b[0m itemList[\u001b[38;5;241m11\u001b[39m]\n",
      "\u001b[1;31mIndexError\u001b[0m: list index out of range"
     ]
    }
   ],
   "source": [
    "itemList = [1, 2, 3, 4, 5, 6, 7, 8, 9, 10]\n",
    "itemList[11]"
   ]
  },
  {
   "cell_type": "markdown",
   "id": "8fdab97c-4259-4de0-9285-8ae6e2c2cba8",
   "metadata": {},
   "source": [
    "##### Cause: Using a value that is out of range for a functi on’s input, such as calling math.sqrt( 1.0)"
   ]
  },
  {
   "cell_type": "markdown",
   "id": "a7a1632e-f9f9-4f3b-9c75-508d7229fd8d",
   "metadata": {},
   "source": [
    "##### Result: NameError"
   ]
  },
  {
   "cell_type": "markdown",
   "id": "72d82319-ab62-4950-a58c-88c2b803a80d",
   "metadata": {
    "vscode": {
     "languageId": "raw"
    }
   },
   "source": [
    "![alt text](q9_sqrt_error.png)"
   ]
  },
  {
   "cell_type": "markdown",
   "id": "1435bfd9-aa27-4b7b-9821-bfabb177ca88",
   "metadata": {},
   "source": [
    "##### Cause: Using an undeclared variable, such as print(x) when x has not been defined"
   ]
  },
  {
   "cell_type": "markdown",
   "id": "7f064f0d-cec9-4def-9e5c-ea5b07f22d70",
   "metadata": {},
   "source": [
    "##### Result: NameError"
   ]
  },
  {
   "cell_type": "code",
   "execution_count": 176,
   "id": "e48f6223-e981-4e9a-9f9c-6049b92b69ac",
   "metadata": {},
   "outputs": [
    {
     "ename": "NameError",
     "evalue": "name 'x' is not defined",
     "output_type": "error",
     "traceback": [
      "\u001b[1;31m---------------------------------------------------------------------------\u001b[0m",
      "\u001b[1;31mNameError\u001b[0m                                 Traceback (most recent call last)",
      "Cell \u001b[1;32mIn[176], line 1\u001b[0m\n\u001b[1;32m----> 1\u001b[0m \u001b[38;5;28mprint\u001b[39m(x)\n",
      "\u001b[1;31mNameError\u001b[0m: name 'x' is not defined"
     ]
    }
   ],
   "source": [
    "print(x)"
   ]
  },
  {
   "cell_type": "markdown",
   "id": "82e63da4-dee8-4160-a2d8-5529d40c6f32",
   "metadata": {},
   "source": [
    "##### Cause: Trying to open a file that does not exist, such as mistyping the file name or looking in the wrong directory."
   ]
  },
  {
   "cell_type": "markdown",
   "id": "6b8fb679-551b-4e99-8e59-32b990270973",
   "metadata": {},
   "source": [
    "##### Result: FileNotFoundError"
   ]
  },
  {
   "cell_type": "code",
   "execution_count": 204,
   "id": "e60509e8-3056-4d09-8edb-b8446cde1a09",
   "metadata": {},
   "outputs": [
    {
     "ename": "FileNotFoundError",
     "evalue": "[Errno 2] No such file or directory: 'cottage springs.txt'",
     "output_type": "error",
     "traceback": [
      "\u001b[1;31m---------------------------------------------------------------------------\u001b[0m",
      "\u001b[1;31mFileNotFoundError\u001b[0m                         Traceback (most recent call last)",
      "Cell \u001b[1;32mIn[204], line 1\u001b[0m\n\u001b[1;32m----> 1\u001b[0m fhand \u001b[38;5;241m=\u001b[39m \u001b[38;5;28mopen\u001b[39m(\u001b[38;5;124m'\u001b[39m\u001b[38;5;124mcottage springs.txt\u001b[39m\u001b[38;5;124m'\u001b[39m)\n",
      "File \u001b[1;32m~\\anaconda3\\Lib\\site-packages\\IPython\\core\\interactiveshell.py:324\u001b[0m, in \u001b[0;36m_modified_open\u001b[1;34m(file, *args, **kwargs)\u001b[0m\n\u001b[0;32m    317\u001b[0m \u001b[38;5;28;01mif\u001b[39;00m file \u001b[38;5;129;01min\u001b[39;00m {\u001b[38;5;241m0\u001b[39m, \u001b[38;5;241m1\u001b[39m, \u001b[38;5;241m2\u001b[39m}:\n\u001b[0;32m    318\u001b[0m     \u001b[38;5;28;01mraise\u001b[39;00m \u001b[38;5;167;01mValueError\u001b[39;00m(\n\u001b[0;32m    319\u001b[0m         \u001b[38;5;124mf\u001b[39m\u001b[38;5;124m\"\u001b[39m\u001b[38;5;124mIPython won\u001b[39m\u001b[38;5;124m'\u001b[39m\u001b[38;5;124mt let you open fd=\u001b[39m\u001b[38;5;132;01m{\u001b[39;00mfile\u001b[38;5;132;01m}\u001b[39;00m\u001b[38;5;124m by default \u001b[39m\u001b[38;5;124m\"\u001b[39m\n\u001b[0;32m    320\u001b[0m         \u001b[38;5;124m\"\u001b[39m\u001b[38;5;124mas it is likely to crash IPython. If you know what you are doing, \u001b[39m\u001b[38;5;124m\"\u001b[39m\n\u001b[0;32m    321\u001b[0m         \u001b[38;5;124m\"\u001b[39m\u001b[38;5;124myou can use builtins\u001b[39m\u001b[38;5;124m'\u001b[39m\u001b[38;5;124m open.\u001b[39m\u001b[38;5;124m\"\u001b[39m\n\u001b[0;32m    322\u001b[0m     )\n\u001b[1;32m--> 324\u001b[0m \u001b[38;5;28;01mreturn\u001b[39;00m io_open(file, \u001b[38;5;241m*\u001b[39margs, \u001b[38;5;241m*\u001b[39m\u001b[38;5;241m*\u001b[39mkwargs)\n",
      "\u001b[1;31mFileNotFoundError\u001b[0m: [Errno 2] No such file or directory: 'cottage springs.txt'"
     ]
    }
   ],
   "source": [
    "fhand = open('cottage springs.txt')"
   ]
  },
  {
   "cell_type": "markdown",
   "id": "ba3f3e6e-49e0-4d8a-8965-5f0dbea1869b",
   "metadata": {},
   "source": [
    "## Question 10"
   ]
  },
  {
   "cell_type": "markdown",
   "id": "e9e2b214-d0ef-4413-b17d-7474f4d9c90b",
   "metadata": {},
   "source": [
    "Encryption is the process of hiding the meaning of a text by substituting letters in the message with other letters, according to some system. If the process is successful, no one but the intended recipient can understand the encrypted message. Cryptanalysis refers to attempts to undo the encryption, even if some details of the encryption are unknown (for example, if an encrypted message has been intercepted). The first step of cryptanalysis is often to build up a table of letter frequencies in the encrypted text. Assume that the string letters is already defined as 'abcdefghijklmnopqrstuvwxyz'. Write a function called frequencies() that takes a string as its only parameter, and returns a list of integers, showing the number of times each character appears in the text. Your function may ignore any characters that are not in letters."
   ]
  },
  {
   "cell_type": "raw",
   "id": "ddbe1407-488a-4b32-9626-269bdea98eb5",
   "metadata": {
    "vscode": {
     "languageId": "raw"
    }
   },
   "source": [
    ">>> frequencies('The quick red fox got bored and went home.')\n",
    "[1, 1, 1, 3, 5, 1, 1, 2, 1, 0, 1, 0, 1, 2, 4, 0, 1, 2, 0, 2, 1, 0, 1, 1, 0, 0]\n",
    ">>> frequencies('apple')"
   ]
  },
  {
   "cell_type": "code",
   "execution_count": 353,
   "id": "01398e63",
   "metadata": {},
   "outputs": [
    {
     "name": "stdout",
     "output_type": "stream",
     "text": [
      "the quick red fox got bored and went home\n",
      "[1, 1, 1, 3, 5, 1, 1, 2, 1, 1, 1, 2, 4, 1, 2, 3, 1, 1, 1]\n"
     ]
    }
   ],
   "source": [
    "def frequencies():\n",
    "    alphabet = 'abcdefghijklmnopqrstuvwxyz'  # the list used to compare frequencies to, to put frequency in alphabetical order\n",
    "    phrase = 'The quick red fox got bored and went home.'\n",
    "    phrase = phrase.lower()  # force the characters in the phrase to lower case\n",
    "\n",
    "    if phrase[-1] == '.':  # checks if the phrase contains a period at the end\n",
    "        phrase = phrase[0:len(phrase)-1]  # removes trailing period from the phrase\n",
    "    print(phrase)\n",
    "\n",
    "    d = dict()  # creates the dictionary called frequency\n",
    "    for char in phrase:  # for each character in the phrase\n",
    "        if char not in d:  # checks if the selected character is not in the dictionary yet\n",
    "            d[char] = 1  # if the selected character is not in the dictionary yet, make the frequency value 1\n",
    "        else:\n",
    "            d[char] = d[char] + 1  # if the selected character is in the dictionary already, incriment the frequency by 1\n",
    "\n",
    "    lstAlphaFreq = []  # creates a list called lstAlphaFreq to hold the alphabetized frequencies\n",
    "    for letter in alphabet:  # loops through the asphabet list in order (creating alphabetical order of the output)\n",
    "        if letter in d:\n",
    "            for char in d:  # loops through all the characters in the dictionary looking for the selected letter, e.g., first loop, alphabet letter is looking for 'a', it searches the frequencies and determines a was not contained in the phrase\n",
    "                if letter == char:  # checks if the letter and character match\n",
    "                    lstAlphaFreq.append(d[char])  # if they match, append the frequency value (count of the character)\n",
    "    print(lstAlphaFreq)            \n",
    "    \n",
    "frequencies()"
   ]
  },
  {
   "cell_type": "code",
   "execution_count": 354,
   "id": "3ede391d-7cb6-4162-ac26-4ebf39aa3ecf",
   "metadata": {},
   "outputs": [
    {
     "name": "stdout",
     "output_type": "stream",
     "text": [
      "apple\n",
      "[1, 1, 1, 2]\n"
     ]
    }
   ],
   "source": [
    "def frequencies():\n",
    "    alphabet = 'abcdefghijklmnopqrstuvwxyz'  # the list used to compare frequencies to, to put frequency in alphabetical order\n",
    "    phrase = 'apple'\n",
    "    phrase = phrase.lower()  # force the characters in the phrase to lower case\n",
    "\n",
    "    if phrase[-1] == '.':  # checks if the phrase contains a period at the end\n",
    "        phrase = phrase[0:len(phrase)-1]  # removes trailing period from the phrase\n",
    "    print(phrase)\n",
    "\n",
    "    d = dict()  # creates the dictionary called frequency\n",
    "    for char in phrase:  # for each character in the phrase\n",
    "        if char not in d:  # checks if the selected character is not in the dictionary yet\n",
    "            d[char] = 1  # if the selected character is not in the dictionary yet, make the frequency value 1\n",
    "        else:\n",
    "            d[char] = d[char] + 1  # if the selected character is in the dictionary already, incriment the frequency by 1\n",
    "\n",
    "    lstAlphaFreq = []  # creates a list called lstAlphaFreq to hold the alphabetized frequencies\n",
    "    for letter in alphabet:  # loops through the asphabet list in order (creating alphabetical order of the output)\n",
    "        if letter in d:\n",
    "            for char in d:  # loops through all the characters in the dictionary looking for the selected letter, e.g., first loop, alphabet letter is looking for 'a', it searches the frequencies and determines a was not contained in the phrase\n",
    "                if letter == char:  # checks if the letter and character match\n",
    "                    lstAlphaFreq.append(d[char])  # if they match, append the frequency value (count of the character)\n",
    "    print(lstAlphaFreq)            \n",
    "    \n",
    "frequencies()"
   ]
  }
 ],
 "metadata": {
  "kernelspec": {
   "display_name": "Python 3 (ipykernel)",
   "language": "python",
   "name": "python3"
  },
  "language_info": {
   "codemirror_mode": {
    "name": "ipython",
    "version": 3
   },
   "file_extension": ".py",
   "mimetype": "text/x-python",
   "name": "python",
   "nbconvert_exporter": "python",
   "pygments_lexer": "ipython3",
   "version": "3.11.5"
  }
 },
 "nbformat": 4,
 "nbformat_minor": 5
}
